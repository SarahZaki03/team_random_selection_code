{
 "cells": [
  {
   "cell_type": "markdown",
   "metadata": {},
   "source": [
    "# Team Random Selection Code :)\n"
   ]
  },
  {
   "cell_type": "code",
   "execution_count": 16,
   "metadata": {},
   "outputs": [],
   "source": [
    "import random\n",
    "# comment\n",
    "# Define the four test lists\n",
    "level1_list = [1, 2, 3, 4]\n",
    "level2_list = ['a', 'b', 'c','d']\n",
    "level3_list = [99, 88, 77,66]\n",
    "level4_list = [\"1$\",\"2&\",\"3%\",\"4©\"]"
   ]
  },
  {
   "cell_type": "markdown",
   "metadata": {},
   "source": [
    "Think about a code that help us to have random new mixed lists, each list should have one element from each level lists.\n",
    "\n",
    "Output may be like that following:\n",
    "```python\n",
    "team1 = [1, 'c', 88, '2&']\n",
    "team2 = [4, 'a', 99, '3%']\n",
    "team3 = [2, 'b', 77, '4©']\n",
    "team4 = [3, 'd', 66, '1$']\n",
    "```\n",
    "\n"
   ]
  },
  {
   "cell_type": "code",
   "execution_count": 17,
   "metadata": {},
   "outputs": [
    {
     "data": {
      "text/plain": [
       "([3, 'a', 99, '3%'],\n",
       " [2, 'c', 77, '2&'],\n",
       " [4, 'd', 66, '1$'],\n",
       " [1, 'b', 88, '4©'])"
      ]
     },
     "execution_count": 17,
     "metadata": {},
     "output_type": "execute_result"
    }
   ],
   "source": [
    "# your code here\n",
    "\n",
    "team1, team2, team3, team4 = [],[],[],[]\n",
    "round = 0\n",
    "while len(level1_list) > 0:\n",
    "    element = level1_list[random.randint(0, len(level1_list) - 1)]\n",
    "    level1_list.remove(element)\n",
    "    element2 = level2_list[random.randint(0, len(level2_list) - 1)]\n",
    "    level2_list.remove(element2)\n",
    "    element3 = level3_list[random.randint(0, len(level3_list) - 1)]\n",
    "    level3_list.remove(element3)\n",
    "    element4 = level4_list[random.randint(0, len(level4_list) - 1)]\n",
    "    level4_list.remove(element4)\n",
    "    if round == 0:\n",
    "        team1.append(element)\n",
    "        team1.append(element2)\n",
    "        team1.append(element3)\n",
    "        team1.append(element4)\n",
    "    elif round == 1:\n",
    "        team2.append(element)\n",
    "        team2.append(element2)\n",
    "        team2.append(element3)\n",
    "        team2.append(element4)\n",
    "    elif round == 2:\n",
    "        team3.append(element)\n",
    "        team3.append(element2)\n",
    "        team3.append(element3)\n",
    "        team3.append(element4)\n",
    "    elif round == 3:\n",
    "        team4.append(element)\n",
    "        team4.append(element2)\n",
    "        team4.append(element3)\n",
    "        team4.append(element4)\n",
    "    round += 1\n",
    "\n",
    "team1, team2, team3, team4"
   ]
  },
  {
   "cell_type": "code",
   "execution_count": null,
   "metadata": {},
   "outputs": [],
   "source": []
  }
 ],
 "metadata": {
  "kernelspec": {
   "display_name": "pubmed",
   "language": "python",
   "name": "python3"
  },
  "language_info": {
   "codemirror_mode": {
    "name": "ipython",
    "version": 3
   },
   "file_extension": ".py",
   "mimetype": "text/x-python",
   "name": "python",
   "nbconvert_exporter": "python",
   "pygments_lexer": "ipython3",
   "version": "3.12.3"
  }
 },
 "nbformat": 4,
 "nbformat_minor": 2
}
