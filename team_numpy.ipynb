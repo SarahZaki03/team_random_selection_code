{
 "cells": [
  {
   "cell_type": "markdown",
   "metadata": {},
   "source": [
    "# Team Random Selection Code :)\n"
   ]
  },
  {
   "cell_type": "code",
   "execution_count": 2,
   "metadata": {},
   "outputs": [],
   "source": [
    "import random\n",
    "import numpy as np"
   ]
  },
  {
   "cell_type": "markdown",
   "metadata": {},
   "source": [
    "Think about a code that help us to have random new mixed lists, each list should have one element from each level lists.\n",
    "\n",
    "Output may be like that following:\n",
    "```python\n",
    "team1 = [1, 'c', 88, '2&']\n",
    "team2 = [4, 'a', 99, '3%']\n",
    "team3 = [2, 'b', 77, '4©']\n",
    "team4 = [3, 'd', 66, '1$']\n",
    "```\n",
    "\n"
   ]
  },
  {
   "cell_type": "code",
   "execution_count": 19,
   "metadata": {},
   "outputs": [
    {
     "data": {
      "text/plain": [
       "array([['1', '2', '3', '4'],\n",
       "       ['a', 'b', 'c', 'd'],\n",
       "       ['99', '88', '77', '66'],\n",
       "       ['1$', '2&', '3%', '4©']], dtype='<U11')"
      ]
     },
     "execution_count": 19,
     "metadata": {},
     "output_type": "execute_result"
    }
   ],
   "source": [
    "# Define the four test lists\n",
    "level1_list = [1, 2, 3, 4]\n",
    "level2_list = ['a', 'b', 'c','d']\n",
    "level3_list = [99, 88, 77,66]\n",
    "level4_list = [\"1$\",\"2&\",\"3%\",\"4©\"]\n",
    "\n",
    "team2D = np.array([level1_list, level2_list, level3_list, level4_list])\n",
    "team2D"
   ]
  },
  {
   "cell_type": "code",
   "execution_count": 20,
   "metadata": {},
   "outputs": [],
   "source": [
    "rows = len(team2D)"
   ]
  },
  {
   "cell_type": "code",
   "execution_count": 36,
   "metadata": {},
   "outputs": [
    {
     "data": {
      "text/plain": [
       "array([['4', '1', '2', '3'],\n",
       "       ['d', 'c', 'a', 'b'],\n",
       "       ['66', '88', '77', '99'],\n",
       "       ['3%', '1$', '2&', '4©']], dtype='<U11')"
      ]
     },
     "execution_count": 36,
     "metadata": {},
     "output_type": "execute_result"
    }
   ],
   "source": [
    "shuffled_indices = np.random.permutation(rows) #return a permutation of the indices\n",
    "team2D[0] = team2D[0][shuffled_indices]\n",
    "\n",
    "shuffled_indices = np.random.permutation(rows)\n",
    "team2D[1] = team2D[1][shuffled_indices]\n",
    "\n",
    "shuffled_indices = np.random.permutation(rows)\n",
    "team2D[2] = team2D[2][shuffled_indices]\n",
    "\n",
    "shuffled_indices = np.random.permutation(rows)\n",
    "team2D[3] = team2D[3][shuffled_indices]\n",
    "\n",
    "team2D"
   ]
  },
  {
   "cell_type": "code",
   "execution_count": 37,
   "metadata": {},
   "outputs": [
    {
     "data": {
      "text/plain": [
       "(['4', 'd', '66', '3%'],\n",
       " ['1', 'c', '88', '1$'],\n",
       " ['2', 'a', '77', '2&'],\n",
       " ['3', 'b', '99', '4©'])"
      ]
     },
     "execution_count": 37,
     "metadata": {},
     "output_type": "execute_result"
    }
   ],
   "source": [
    "team1 = list(team2D[:, 0])\n",
    "team2 = list(team2D[:, 1])\n",
    "team3 = list(team2D[:, 2])\n",
    "team4 = list(team2D[:, 3])\n",
    "\n",
    "team1, team2, team3, team4"
   ]
  },
  {
   "cell_type": "code",
   "execution_count": null,
   "metadata": {},
   "outputs": [],
   "source": []
  }
 ],
 "metadata": {
  "kernelspec": {
   "display_name": "pubmed",
   "language": "python",
   "name": "python3"
  },
  "language_info": {
   "codemirror_mode": {
    "name": "ipython",
    "version": 3
   },
   "file_extension": ".py",
   "mimetype": "text/x-python",
   "name": "python",
   "nbconvert_exporter": "python",
   "pygments_lexer": "ipython3",
   "version": "3.12.3"
  }
 },
 "nbformat": 4,
 "nbformat_minor": 2
}
